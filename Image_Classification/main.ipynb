{
 "cells": [
  {
   "cell_type": "code",
   "execution_count": 40,
   "metadata": {},
   "outputs": [],
   "source": [
    "import re\n",
    "import glob\n",
    "import numpy as np\n",
    "from tqdm import tqdm\n",
    "from sklearn import preprocessing\n",
    "from sklearn.model_selection import train_test_split\n",
    "\n",
    "import matplotlib.pyplot as plt\n",
    "\n",
    "import tensorflow as tf\n",
    "from keras.utils import to_categorical\n",
    "from tensorflow.keras.preprocessing import image\n",
    "from tensorflow.keras.applications.mobilenet import MobileNet, preprocess_input\n",
    "from tensorflow.keras.preprocessing.image import ImageDataGenerator\n",
    "from tensorflow.keras.models import Sequential, Model\n",
    "from tensorflow.keras.layers import Dense, Dropout, Flatten, Activation, Conv2D, GlobalAveragePooling2D"
   ]
  },
  {
   "cell_type": "code",
   "execution_count": 26,
   "metadata": {},
   "outputs": [],
   "source": [
    "files = glob.glob('/home/kiho/다운로드/두잉랩_과제/*')\n",
    "_class = [x.split('/')[-1].replace('.jpg','') for x in files]"
   ]
  },
  {
   "cell_type": "code",
   "execution_count": 27,
   "metadata": {},
   "outputs": [
    {
     "name": "stderr",
     "output_type": "stream",
     "text": [
      "100%|██████████| 1757/1757 [00:21<00:00, 43.56it/s]\n"
     ]
    }
   ],
   "source": [
    "X = []\n",
    "for file_name in tqdm(files):\n",
    "    img = image.load_img(file_name, target_size = (100, 100))\n",
    "    v = image.img_to_array(img)\n",
    "    v = np.expand_dims(v, axis=0)\n",
    "    if len(X) > 0:\n",
    "        X = np.concatenate((X, v))\n",
    "    else:\n",
    "        X = v"
   ]
  },
  {
   "cell_type": "code",
   "execution_count": 28,
   "metadata": {},
   "outputs": [],
   "source": [
    "p = re.compile(\"[^0-9]\")\n",
    "Y = [\"\".join(p.findall(x)) for x in _class]"
   ]
  },
  {
   "cell_type": "code",
   "execution_count": 29,
   "metadata": {},
   "outputs": [],
   "source": [
    "X = tf.keras.applications.mobilenet.preprocess_input(X)"
   ]
  },
  {
   "cell_type": "code",
   "execution_count": 30,
   "metadata": {},
   "outputs": [],
   "source": [
    "label_encoder = preprocessing.LabelEncoder()\n",
    "y = label_encoder.fit_transform(Y)\n",
    "Y = to_categorical(y)"
   ]
  },
  {
   "cell_type": "code",
   "execution_count": 31,
   "metadata": {},
   "outputs": [],
   "source": [
    "X_train, X_test, Y_train, Y_test = train_test_split(X, Y, test_size = 0.2, random_state = 2020)"
   ]
  },
  {
   "cell_type": "code",
   "execution_count": 32,
   "metadata": {},
   "outputs": [
    {
     "name": "stderr",
     "output_type": "stream",
     "text": [
      "/home/kiho/anaconda3/lib/python3.7/site-packages/keras_applications/mobilenet.py:207: UserWarning: `input_shape` is undefined or non-square, or `rows` is not in [128, 160, 192, 224]. Weights for input shape (224, 224) will be loaded as the default.\n",
      "  warnings.warn('`input_shape` is undefined or non-square, '\n"
     ]
    }
   ],
   "source": [
    "mobileNetModel = MobileNet(weights = 'imagenet', include_top = False)\n",
    "\n",
    "model = Sequential()\n",
    "model.add(mobileNetModel)\n",
    "model.add(GlobalAveragePooling2D())\n",
    "model.add(Dense(5, activation = 'softmax', kernel_initializer = 'he_normal'))\n",
    "model.compile(optimizer = 'adam', \n",
    "                loss = 'categorical_crossentropy', \n",
    "                metrics = ['acc']\n",
    "             )"
   ]
  },
  {
   "cell_type": "code",
   "execution_count": 33,
   "metadata": {},
   "outputs": [
    {
     "name": "stdout",
     "output_type": "stream",
     "text": [
      "Train on 1124 samples, validate on 281 samples\n",
      "Epoch 1/10\n",
      "1124/1124 [==============================] - 9s 8ms/sample - loss: 1.2834 - acc: 0.6352 - val_loss: 4.4041 - val_acc: 0.4769\n",
      "Epoch 2/10\n",
      "1124/1124 [==============================] - 8s 7ms/sample - loss: 0.3215 - acc: 0.9057 - val_loss: 4.0517 - val_acc: 0.6335\n",
      "Epoch 3/10\n",
      "1124/1124 [==============================] - 7s 6ms/sample - loss: 0.2035 - acc: 0.9404 - val_loss: 3.3846 - val_acc: 0.6655\n",
      "Epoch 4/10\n",
      "1124/1124 [==============================] - 7s 6ms/sample - loss: 0.0532 - acc: 0.9831 - val_loss: 2.5301 - val_acc: 0.7011\n",
      "Epoch 5/10\n",
      "1124/1124 [==============================] - 7s 6ms/sample - loss: 0.0382 - acc: 0.9884 - val_loss: 2.2394 - val_acc: 0.7153\n",
      "Epoch 6/10\n",
      "1124/1124 [==============================] - 7s 6ms/sample - loss: 0.0255 - acc: 0.9920 - val_loss: 1.8355 - val_acc: 0.7616\n",
      "Epoch 7/10\n",
      "1124/1124 [==============================] - 7s 6ms/sample - loss: 0.0145 - acc: 0.9947 - val_loss: 1.2819 - val_acc: 0.7651\n",
      "Epoch 8/10\n",
      "1124/1124 [==============================] - 7s 6ms/sample - loss: 0.0080 - acc: 0.9973 - val_loss: 1.3052 - val_acc: 0.8043\n",
      "Epoch 9/10\n",
      "1124/1124 [==============================] - 7s 6ms/sample - loss: 0.0101 - acc: 0.9973 - val_loss: 1.6715 - val_acc: 0.7651\n",
      "Epoch 10/10\n",
      "1124/1124 [==============================] - 7s 6ms/sample - loss: 0.0288 - acc: 0.9920 - val_loss: 1.4685 - val_acc: 0.8007\n"
     ]
    }
   ],
   "source": [
    "history = model.fit(X_train, Y_train, \n",
    "                    batch_size = 64, \n",
    "                    epochs = 10, \n",
    "                    verbose = 1, \n",
    "                    validation_split = 0.2)"
   ]
  },
  {
   "cell_type": "code",
   "execution_count": 43,
   "metadata": {},
   "outputs": [
    {
     "name": "stdout",
     "output_type": "stream",
     "text": [
      "352/352 [==============================] - 1s 2ms/sample - loss: 1.8077 - acc: 0.8068\n",
      "Loss: 1.808 | Accuracy: 0.807\n"
     ]
    },
    {
     "data": {
      "image/png": "[encoded data removed]",
      "text/plain": [
       "<Figure size 936x360 with 2 Axes>"
      ]
     },
     "metadata": {
      "needs_background": "light"
     },
     "output_type": "display_data"
    }
   ],
   "source": [
    "acc = model.evaluate(X_test, Y_test)\n",
    "print('Loss: {:0.3f} | Accuracy: {:0.3f}'.format(acc[0],acc[1]))\n",
    "\n",
    "loss = history.history['loss']\n",
    "val_loss = history.history['val_loss']\n",
    "acc = history.history['acc']\n",
    "val_acc = history.history['val_acc']\n",
    "\n",
    "epochs = range(1, len(loss) + 1)\n",
    "\n",
    "plt.figure(figsize = (13,5))\n",
    "plt.subplot(1,2,1)\n",
    "plt.plot(epochs, loss, 'r', label='Training loss')\n",
    "plt.plot(epochs, val_loss, 'b', label='Validation loss')\n",
    "plt.title('Training and validation loss')\n",
    "plt.xlabel('Epochs')\n",
    "plt.ylabel('Loss')\n",
    "plt.legend()\n",
    "\n",
    "plt.subplot(1,2,2)\n",
    "plt.plot(epochs, acc, 'r', label='accuracy')\n",
    "plt.plot(epochs, val_acc, 'b', label='Validation accuracy')\n",
    "plt.title('Accuracy and Validation accuracy')\n",
    "plt.xlabel('Epochs')\n",
    "plt.ylabel('Accuracy')\n",
    "plt.legend()\n",
    "\n",
    "plt.show()\n",
    "plt.close()"
   ]
  },
  {
   "cell_type": "code",
   "execution_count": 44,
   "metadata": {},
   "outputs": [],
   "source": [
    "def pred(img_path):\n",
    "    img = image.load_img(img_path, target_size = (100, 100))\n",
    "    v = image.img_to_array(img)\n",
    "    v = np.expand_dims(v, axis=0)\n",
    "    X = tf.keras.applications.mobilenet.preprocess_input(v)\n",
    "    pred = model.predict(X)\n",
    "    prob = np.max(pred)\n",
    "    r = np.argmax(pred)\n",
    "    mylist = ['감자탕','김밥','김치','족발','죽']\n",
    "    dct = {k:v for k, v in enumerate(mylist)}\n",
    "    print ('pred:',dct[r])\n",
    "    print ('prob: {}%'.format(prob * 100))"
   ]
  },
  {
   "cell_type": "code",
   "execution_count": 46,
   "metadata": {},
   "outputs": [
    {
     "name": "stdout",
     "output_type": "stream",
     "text": [
      "pred: 감자탕\n",
      "prob: 99.9947190284729%\n"
     ]
    }
   ],
   "source": [
    "pred('/home/kiho/다운로드/테스트_이미지/감자탕.jpg')"
   ]
  },
  {
   "cell_type": "code",
   "execution_count": null,
   "metadata": {},
   "outputs": [],
   "source": []
  },
  {
   "cell_type": "code",
   "execution_count": null,
   "metadata": {},
   "outputs": [],
   "source": []
  }
 ],
 "metadata": {
  "kernelspec": {
   "display_name": "Python 3",
   "language": "python",
   "name": "python3"
  },
  "language_info": {
   "codemirror_mode": {
    "name": "ipython",
    "version": 3
   },
   "file_extension": ".py",
   "mimetype": "text/x-python",
   "name": "python",
   "nbconvert_exporter": "python",
   "pygments_lexer": "ipython3",
   "version": "3.7.3"
  }
 },
 "nbformat": 4,
 "nbformat_minor": 2
}
